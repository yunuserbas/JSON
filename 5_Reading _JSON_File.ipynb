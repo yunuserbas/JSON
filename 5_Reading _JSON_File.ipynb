{
 "cells": [
  {
   "cell_type": "code",
   "execution_count": 1,
   "id": "03a14ff9",
   "metadata": {},
   "outputs": [],
   "source": [
    "import json\n",
    "import requests \n",
    "\n",
    "link=\"https://raw.githubusercontent.com/murpi/wilddata/master/quests/monthlySalesbyCategoryMultiple.json\"\n",
    "\n",
    "r = requests.get(link)"
   ]
  },
  {
   "cell_type": "code",
   "execution_count": 8,
   "id": "80f19363",
   "metadata": {},
   "outputs": [
    {
     "data": {
      "text/plain": [
       "'{ \"contents\": [\\n  {\\n    \"category\": \"Furniture\",\\n    \"region\": \"West\",\\n    \"monthlySales\":\\n\\n      [{\\n        \"month\":20130101,\\n        \"sales\":38\\n      },\\n      {\\n        \"month\":20130201,\\n        \"sales\":35\\n      },\\n      {\\n        \"month\":20130301,\\n        \"sales\":41\\n      },\\n      {\\n        \"month\":20130401,\\n        \"sales\":55\\n      },\\n      {\\n        \"month\":20130501,\\n        \"sales\":58\\n      },\\n      {\\n        \"month\":20130601,\\n        \"sales\":66\\n      },\\n      {\\n        \"month\":20130701,\\n        \"sales\":74\\n      },\\n      {\\n        \"month\":20130801,\\n        \"sales\":78\\n      },\\n      {\\n        \"month\":20130901,\\n        \"sales\":38\\n      },\\n      {\\n        \"month\":20131001,\\n        \"sales\":30\\n      },\\n      {\\n        \"month\":20131101,\\n        \"sales\":26\\n      },\\n      {\\n        \"month\":20131201,\\n        \"sales\":29\\n      }\\n    ]\\n  },\\n  {\\n    \"category\": \"Technology\",\\n    \"region\": \"West\",\\n    \"monthlySales\":\\n\\n      [{\\n        \"month\":20130101,\\n        \"sales\":54\\n      },\\n      {\\n        \"month\":20130201,\\n        \"sales\":66\\n      },\\n      {\\n        \"month\":20130301,\\n        \"sales\":77\\n      },\\n      {\\n        \"month\":20130401,\\n        \"sales\":70\\n      },\\n      {\\n        \"month\":20130501,\\n        \"sales\":60\\n      },\\n      {\\n        \"month\":20130601,\\n        \"sales\":63\\n      },\\n      {\\n        \"month\":20130701,\\n        \"sales\":55\\n      },\\n      {\\n        \"month\":20130801,\\n        \"sales\":47\\n      },\\n      {\\n        \"month\":20130901,\\n        \"sales\":55\\n      },\\n      {\\n        \"month\":20131001,\\n        \"sales\":30\\n      },\\n      {\\n        \"month\":20131101,\\n        \"sales\":22\\n      },\\n      {\\n        \"month\":20131201,\\n        \"sales\":77\\n      }\\n    ]\\n  }\\n]} \\n'"
      ]
     },
     "execution_count": 8,
     "metadata": {},
     "output_type": "execute_result"
    }
   ],
   "source": [
    "r.text"
   ]
  },
  {
   "cell_type": "code",
   "execution_count": 6,
   "id": "53d0f398",
   "metadata": {},
   "outputs": [],
   "source": [
    "data = json.loads(r.text)"
   ]
  },
  {
   "cell_type": "code",
   "execution_count": 4,
   "id": "0ecfff49",
   "metadata": {},
   "outputs": [
    {
     "name": "stdout",
     "output_type": "stream",
     "text": [
      "[{'category': 'Furniture', 'region': 'West', 'monthlySales': [{'month': 20130101, 'sales': 38}, {'month': 20130201, 'sales': 35}, {'month': 20130301, 'sales': 41}, {'month': 20130401, 'sales': 55}, {'month': 20130501, 'sales': 58}, {'month': 20130601, 'sales': 66}, {'month': 20130701, 'sales': 74}, {'month': 20130801, 'sales': 78}, {'month': 20130901, 'sales': 38}, {'month': 20131001, 'sales': 30}, {'month': 20131101, 'sales': 26}, {'month': 20131201, 'sales': 29}]}, {'category': 'Technology', 'region': 'West', 'monthlySales': [{'month': 20130101, 'sales': 54}, {'month': 20130201, 'sales': 66}, {'month': 20130301, 'sales': 77}, {'month': 20130401, 'sales': 70}, {'month': 20130501, 'sales': 60}, {'month': 20130601, 'sales': 63}, {'month': 20130701, 'sales': 55}, {'month': 20130801, 'sales': 47}, {'month': 20130901, 'sales': 55}, {'month': 20131001, 'sales': 30}, {'month': 20131101, 'sales': 22}, {'month': 20131201, 'sales': 77}]}]\n"
     ]
    }
   ],
   "source": [
    "#Affichage des données au format json\n",
    "print(data['contents'])"
   ]
  },
  {
   "cell_type": "code",
   "execution_count": 11,
   "id": "6a413cbd",
   "metadata": {},
   "outputs": [
    {
     "name": "stdout",
     "output_type": "stream",
     "text": [
      "{\n",
      "    \"contents\": [\n",
      "        {\n",
      "            \"category\": \"Furniture\",\n",
      "            \"region\": \"West\",\n",
      "            \"monthlySales\": [\n",
      "                {\n",
      "                    \"month\": 20130101,\n",
      "                    \"sales\": 38\n",
      "                },\n",
      "                {\n",
      "                    \"month\": 20130201,\n",
      "                    \"sales\": 35\n",
      "                },\n",
      "                {\n",
      "                    \"month\": 20130301,\n",
      "                    \"sales\": 41\n",
      "                },\n",
      "                {\n",
      "                    \"month\": 20130401,\n",
      "                    \"sales\": 55\n",
      "                },\n",
      "                {\n",
      "                    \"month\": 20130501,\n",
      "                    \"sales\": 58\n",
      "                },\n",
      "                {\n",
      "                    \"month\": 20130601,\n",
      "                    \"sales\": 66\n",
      "                },\n",
      "                {\n",
      "                    \"month\": 20130701,\n",
      "                    \"sales\": 74\n",
      "                },\n",
      "                {\n",
      "                    \"month\": 20130801,\n",
      "                    \"sales\": 78\n",
      "                },\n",
      "                {\n",
      "                    \"month\": 20130901,\n",
      "                    \"sales\": 38\n",
      "                },\n",
      "                {\n",
      "                    \"month\": 20131001,\n",
      "                    \"sales\": 30\n",
      "                },\n",
      "                {\n",
      "                    \"month\": 20131101,\n",
      "                    \"sales\": 26\n",
      "                },\n",
      "                {\n",
      "                    \"month\": 20131201,\n",
      "                    \"sales\": 29\n",
      "                }\n",
      "            ]\n",
      "        },\n",
      "        {\n",
      "            \"category\": \"Technology\",\n",
      "            \"region\": \"West\",\n",
      "            \"monthlySales\": [\n",
      "                {\n",
      "                    \"month\": 20130101,\n",
      "                    \"sales\": 54\n",
      "                },\n",
      "                {\n",
      "                    \"month\": 20130201,\n",
      "                    \"sales\": 66\n",
      "                },\n",
      "                {\n",
      "                    \"month\": 20130301,\n",
      "                    \"sales\": 77\n",
      "                },\n",
      "                {\n",
      "                    \"month\": 20130401,\n",
      "                    \"sales\": 70\n",
      "                },\n",
      "                {\n",
      "                    \"month\": 20130501,\n",
      "                    \"sales\": 60\n",
      "                },\n",
      "                {\n",
      "                    \"month\": 20130601,\n",
      "                    \"sales\": 63\n",
      "                },\n",
      "                {\n",
      "                    \"month\": 20130701,\n",
      "                    \"sales\": 55\n",
      "                },\n",
      "                {\n",
      "                    \"month\": 20130801,\n",
      "                    \"sales\": 47\n",
      "                },\n",
      "                {\n",
      "                    \"month\": 20130901,\n",
      "                    \"sales\": 55\n",
      "                },\n",
      "                {\n",
      "                    \"month\": 20131001,\n",
      "                    \"sales\": 30\n",
      "                },\n",
      "                {\n",
      "                    \"month\": 20131101,\n",
      "                    \"sales\": 22\n",
      "                },\n",
      "                {\n",
      "                    \"month\": 20131201,\n",
      "                    \"sales\": 77\n",
      "                }\n",
      "            ]\n",
      "        }\n",
      "    ]\n",
      "}\n"
     ]
    }
   ],
   "source": [
    "#Format the json file\n",
    "print(json.dumps(data, indent=4))"
   ]
  },
  {
   "cell_type": "code",
   "execution_count": 12,
   "id": "bda4f621",
   "metadata": {},
   "outputs": [
    {
     "name": "stdout",
     "output_type": "stream",
     "text": [
      "{'category': 'Furniture', 'region': 'West', 'monthlySales': [{'month': 20130101, 'sales': 38}, {'month': 20130201, 'sales': 35}, {'month': 20130301, 'sales': 41}, {'month': 20130401, 'sales': 55}, {'month': 20130501, 'sales': 58}, {'month': 20130601, 'sales': 66}, {'month': 20130701, 'sales': 74}, {'month': 20130801, 'sales': 78}, {'month': 20130901, 'sales': 38}, {'month': 20131001, 'sales': 30}, {'month': 20131101, 'sales': 26}, {'month': 20131201, 'sales': 29}]}\n"
     ]
    }
   ],
   "source": [
    "#Print the first element of the dictionnary\n",
    "print(data['contents'][0])"
   ]
  },
  {
   "cell_type": "code",
   "execution_count": 13,
   "id": "be65c100",
   "metadata": {},
   "outputs": [
    {
     "name": "stdout",
     "output_type": "stream",
     "text": [
      "{'category': 'Technology', 'region': 'West', 'monthlySales': [{'month': 20130101, 'sales': 54}, {'month': 20130201, 'sales': 66}, {'month': 20130301, 'sales': 77}, {'month': 20130401, 'sales': 70}, {'month': 20130501, 'sales': 60}, {'month': 20130601, 'sales': 63}, {'month': 20130701, 'sales': 55}, {'month': 20130801, 'sales': 47}, {'month': 20130901, 'sales': 55}, {'month': 20131001, 'sales': 30}, {'month': 20131101, 'sales': 22}, {'month': 20131201, 'sales': 77}]}\n"
     ]
    }
   ],
   "source": [
    "#Print the second element of the dictionnary\n",
    "print(data['contents'][1])"
   ]
  },
  {
   "cell_type": "code",
   "execution_count": 14,
   "id": "e0fdd053",
   "metadata": {},
   "outputs": [
    {
     "name": "stdout",
     "output_type": "stream",
     "text": [
      "{'month': 20130101, 'sales': 38}\n",
      "{'month': 20130201, 'sales': 35}\n",
      "{'month': 20130301, 'sales': 41}\n",
      "{'month': 20130401, 'sales': 55}\n",
      "{'month': 20130501, 'sales': 58}\n",
      "{'month': 20130601, 'sales': 66}\n",
      "{'month': 20130701, 'sales': 74}\n",
      "{'month': 20130801, 'sales': 78}\n",
      "{'month': 20130901, 'sales': 38}\n",
      "{'month': 20131001, 'sales': 30}\n",
      "{'month': 20131101, 'sales': 26}\n",
      "{'month': 20131201, 'sales': 29}\n"
     ]
    }
   ],
   "source": [
    "#Print the monthly sales of the first category\n",
    "for cat in data['contents']:\n",
    "    if cat['category'] == \"Furniture\":\n",
    "        for sales_per_month in cat[\"monthlySales\"]:\n",
    "            print(sales_per_month)\n",
    "        "
   ]
  },
  {
   "cell_type": "code",
   "execution_count": 15,
   "id": "8a4fd28e",
   "metadata": {},
   "outputs": [
    {
     "name": "stdout",
     "output_type": "stream",
     "text": [
      "{'month': 20130101, 'sales': 54}\n",
      "{'month': 20130201, 'sales': 66}\n",
      "{'month': 20130301, 'sales': 77}\n",
      "{'month': 20130401, 'sales': 70}\n",
      "{'month': 20130501, 'sales': 60}\n",
      "{'month': 20130601, 'sales': 63}\n",
      "{'month': 20130701, 'sales': 55}\n",
      "{'month': 20130801, 'sales': 47}\n",
      "{'month': 20130901, 'sales': 55}\n",
      "{'month': 20131001, 'sales': 30}\n",
      "{'month': 20131101, 'sales': 22}\n",
      "{'month': 20131201, 'sales': 77}\n"
     ]
    }
   ],
   "source": [
    "#Print the monthly sales of the second category\n",
    "for cat in data['contents']:\n",
    "    if cat['category'] == \"Technology\":\n",
    "        for sales_per_month in cat[\"monthlySales\"]:\n",
    "            print(sales_per_month)\n",
    "        "
   ]
  },
  {
   "cell_type": "code",
   "execution_count": 18,
   "id": "f11fc406",
   "metadata": {},
   "outputs": [
    {
     "data": {
      "text/plain": [
       "568"
      ]
     },
     "execution_count": 18,
     "metadata": {},
     "output_type": "execute_result"
    }
   ],
   "source": [
    "#Total number of sales for furniture category\n",
    "amount=0\n",
    "for cat in data['contents']:\n",
    "    if cat['category'] == \"Furniture\":\n",
    "        for sales_per_month in cat[\"monthlySales\"]:\n",
    "            amount+=sales_per_month[\"sales\"]\n",
    "amount"
   ]
  },
  {
   "cell_type": "code",
   "execution_count": 19,
   "id": "2430c4ae",
   "metadata": {},
   "outputs": [
    {
     "data": {
      "text/plain": [
       "676"
      ]
     },
     "execution_count": 19,
     "metadata": {},
     "output_type": "execute_result"
    }
   ],
   "source": [
    "#Total number of sales for furniture category\n",
    "amount=0\n",
    "for cat in data['contents']:\n",
    "    if cat['category'] == \"Technology\":\n",
    "        for sales_per_month in cat[\"monthlySales\"]:\n",
    "            amount+=sales_per_month[\"sales\"]\n",
    "amount"
   ]
  },
  {
   "cell_type": "code",
   "execution_count": null,
   "id": "5f509be6",
   "metadata": {},
   "outputs": [],
   "source": []
  }
 ],
 "metadata": {
  "kernelspec": {
   "display_name": "Python 3 (ipykernel)",
   "language": "python",
   "name": "python3"
  },
  "language_info": {
   "codemirror_mode": {
    "name": "ipython",
    "version": 3
   },
   "file_extension": ".py",
   "mimetype": "text/x-python",
   "name": "python",
   "nbconvert_exporter": "python",
   "pygments_lexer": "ipython3",
   "version": "3.9.13"
  }
 },
 "nbformat": 4,
 "nbformat_minor": 5
}
