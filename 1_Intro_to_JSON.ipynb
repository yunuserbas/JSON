{
  "nbformat": 4,
  "nbformat_minor": 0,
  "metadata": {
    "colab": {
      "provenance": [],
      "collapsed_sections": []
    },
    "kernelspec": {
      "name": "python3",
      "display_name": "Python 3"
    }
  },
  "cells": [
    {
      "cell_type": "markdown",
      "metadata": {
        "id": "3gy55VJcTu_4"
      },
      "source": [
        "# Reading a JSON\n",
        "\n",
        "Execute the code below :"
      ]
    },
    {
      "cell_type": "code",
      "metadata": {
        "id": "RlpIEaOvTuV2",
        "colab": {
          "base_uri": "https://localhost:8080/",
          "height": 122
        },
        "outputId": "6a492686-a26c-4268-8d5f-aa10051b9be3"
      },
      "source": [
        "import json\n",
        "import requests\n",
        "\n",
        "link = \"https://raw.githubusercontent.com/murpi/wilddata/master/quests/monthlySalesbyCategoryMultiple.json\"\n",
        "\n",
        "# This function gets the file content from the URL\n",
        "r = requests.get(link)\n",
        "\n",
        "\n",
        "# You can access to the text content with this function\n",
        "r.text"
      ],
      "execution_count": null,
      "outputs": [
        {
          "output_type": "execute_result",
          "data": {
            "text/plain": [
              "'{ \"contents\": [\\n  {\\n    \"category\": \"Furniture\",\\n    \"region\": \"West\",\\n    \"monthlySales\":\\n\\n      [{\\n        \"month\":20130101,\\n        \"sales\":38\\n      },\\n      {\\n        \"month\":20130201,\\n        \"sales\":35\\n      },\\n      {\\n        \"month\":20130301,\\n        \"sales\":41\\n      },\\n      {\\n        \"month\":20130401,\\n        \"sales\":55\\n      },\\n      {\\n        \"month\":20130501,\\n        \"sales\":58\\n      },\\n      {\\n        \"month\":20130601,\\n        \"sales\":66\\n      },\\n      {\\n        \"month\":20130701,\\n        \"sales\":74\\n      },\\n      {\\n        \"month\":20130801,\\n        \"sales\":78\\n      },\\n      {\\n        \"month\":20130901,\\n        \"sales\":38\\n      },\\n      {\\n        \"month\":20131001,\\n        \"sales\":30\\n      },\\n      {\\n        \"month\":20131101,\\n        \"sales\":26\\n      },\\n      {\\n        \"month\":20131201,\\n        \"sales\":29\\n      }\\n    ]\\n  },\\n  {\\n    \"category\": \"Technology\",\\n    \"region\": \"West\",\\n    \"monthlySales\":\\n\\n      [{\\n        \"month\":20130101,\\n        \"sales\":54\\n      },\\n      {\\n        \"month\":20130201,\\n        \"sales\":66\\n      },\\n      {\\n        \"month\":20130301,\\n        \"sales\":77\\n      },\\n      {\\n        \"month\":20130401,\\n        \"sales\":70\\n      },\\n      {\\n        \"month\":20130501,\\n        \"sales\":60\\n      },\\n      {\\n        \"month\":20130601,\\n        \"sales\":63\\n      },\\n      {\\n        \"month\":20130701,\\n        \"sales\":55\\n      },\\n      {\\n        \"month\":20130801,\\n        \"sales\":47\\n      },\\n      {\\n        \"month\":20130901,\\n        \"sales\":55\\n      },\\n      {\\n        \"month\":20131001,\\n        \"sales\":30\\n      },\\n      {\\n        \"month\":20131101,\\n        \"sales\":22\\n      },\\n      {\\n        \"month\":20131201,\\n        \"sales\":77\\n      }\\n    ]\\n  }\\n]} \\n'"
            ],
            "application/vnd.google.colaboratory.intrinsic+json": {
              "type": "string"
            }
          },
          "metadata": {},
          "execution_count": 1
        }
      ]
    },
    {
      "cell_type": "code",
      "metadata": {
        "id": "q9YwmpYMTr1n",
        "colab": {
          "base_uri": "https://localhost:8080/"
        },
        "outputId": "c835ea3d-18e8-4229-e433-0cdd12be8239"
      },
      "source": [
        "# Try this\n",
        "import json\n",
        "\n",
        "data = json.loads( r.text)\n",
        "data"
      ],
      "execution_count": null,
      "outputs": [
        {
          "output_type": "execute_result",
          "data": {
            "text/plain": [
              "{'contents': [{'category': 'Furniture',\n",
              "   'region': 'West',\n",
              "   'monthlySales': [{'month': 20130101, 'sales': 38},\n",
              "    {'month': 20130201, 'sales': 35},\n",
              "    {'month': 20130301, 'sales': 41},\n",
              "    {'month': 20130401, 'sales': 55},\n",
              "    {'month': 20130501, 'sales': 58},\n",
              "    {'month': 20130601, 'sales': 66},\n",
              "    {'month': 20130701, 'sales': 74},\n",
              "    {'month': 20130801, 'sales': 78},\n",
              "    {'month': 20130901, 'sales': 38},\n",
              "    {'month': 20131001, 'sales': 30},\n",
              "    {'month': 20131101, 'sales': 26},\n",
              "    {'month': 20131201, 'sales': 29}]},\n",
              "  {'category': 'Technology',\n",
              "   'region': 'West',\n",
              "   'monthlySales': [{'month': 20130101, 'sales': 54},\n",
              "    {'month': 20130201, 'sales': 66},\n",
              "    {'month': 20130301, 'sales': 77},\n",
              "    {'month': 20130401, 'sales': 70},\n",
              "    {'month': 20130501, 'sales': 60},\n",
              "    {'month': 20130601, 'sales': 63},\n",
              "    {'month': 20130701, 'sales': 55},\n",
              "    {'month': 20130801, 'sales': 47},\n",
              "    {'month': 20130901, 'sales': 55},\n",
              "    {'month': 20131001, 'sales': 30},\n",
              "    {'month': 20131101, 'sales': 22},\n",
              "    {'month': 20131201, 'sales': 77}]}]}"
            ]
          },
          "metadata": {},
          "execution_count": 2
        }
      ]
    },
    {
      "cell_type": "markdown",
      "metadata": {
        "id": "uogPKCrpZe1s"
      },
      "source": [
        "# Manipulate the data"
      ]
    },
    {
      "cell_type": "markdown",
      "metadata": {
        "id": "r1hWtHV3Yj0r"
      },
      "source": [
        "Now print for each category their total number of sales (without using a dataframe, just manipulating the dictionaries and lists).\n",
        "\n",
        "Expected result:\n",
        "- Furniture 568\n",
        "- Technology 676\n",
        "\n"
      ]
    },
    {
      "cell_type": "code",
      "source": [
        "category1 = data['contents'][0]['category']\n",
        "\n",
        "category2 = data['contents'][1]['category']\n",
        "\n",
        "print(category1)\n",
        "print(category2)"
      ],
      "metadata": {
        "colab": {
          "base_uri": "https://localhost:8080/"
        },
        "id": "c6bfn31Nw1tp",
        "outputId": "ffca45cb-8c22-4cf1-a77b-1726b83915db"
      },
      "execution_count": null,
      "outputs": [
        {
          "output_type": "stream",
          "name": "stdout",
          "text": [
            "Furniture\n",
            "Technology\n"
          ]
        }
      ]
    },
    {
      "cell_type": "code",
      "source": [
        "first_sale_furniture = data['contents'][0]['monthlySales'][0]['sales']\n",
        "\n",
        "first_sale_technology = data['contents'][1]['monthlySales'][0]['sales']\n",
        "\n",
        "print(category1)\n",
        "print(category2)"
      ],
      "metadata": {
        "colab": {
          "base_uri": "https://localhost:8080/"
        },
        "id": "gTnERFVJxet2",
        "outputId": "491aa1b6-a5f2-44bf-aedc-80022e79d29c"
      },
      "execution_count": null,
      "outputs": [
        {
          "output_type": "stream",
          "name": "stdout",
          "text": [
            "38\n",
            "54\n"
          ]
        }
      ]
    },
    {
      "cell_type": "code",
      "metadata": {
        "id": "SI-uCLddYWpk",
        "colab": {
          "base_uri": "https://localhost:8080/"
        },
        "outputId": "558125c1-0422-4773-c928-36b1a9704034"
      },
      "source": [
        "data1 = data['contents'][0][ 'monthlySales']\n",
        "sum = 0\n",
        "\n",
        "for i in range(len(data1)):\n",
        "  sum += data1[i]['sales']\n",
        "print('Furniture', sum)\n",
        "\n",
        "data2=data['contents'][1][ 'monthlySales']\n",
        "sum = 0\n",
        "for i in range(len(data2)):\n",
        "  sum += data2[i]['sales']\n",
        "print('Technology', sum)\n"
      ],
      "execution_count": null,
      "outputs": [
        {
          "output_type": "stream",
          "name": "stdout",
          "text": [
            "Furniture 568\n",
            "Technology 676\n"
          ]
        }
      ]
    }
  ]
}