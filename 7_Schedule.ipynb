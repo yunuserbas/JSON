{
 "cells": [
  {
   "cell_type": "code",
   "execution_count": 3,
   "id": "a00d3bf6",
   "metadata": {},
   "outputs": [],
   "source": [
    "import schedule\n",
    "import time\n",
    "import requests\n",
    "import json\n",
    "\n"
   ]
  },
  {
   "cell_type": "code",
   "execution_count": 4,
   "id": "c2f02a8a",
   "metadata": {},
   "outputs": [
    {
     "data": {
      "text/plain": [
       "{'time': {'updated': 'Nov 9, 2022 15:00:00 UTC',\n",
       "  'updatedISO': '2022-11-09T15:00:00+00:00',\n",
       "  'updateduk': 'Nov 9, 2022 at 15:00 GMT'},\n",
       " 'disclaimer': 'This data was produced from the CoinDesk Bitcoin Price Index (USD). Non-USD currency data converted using hourly conversion rate from openexchangerates.org',\n",
       " 'chartName': 'Bitcoin',\n",
       " 'bpi': {'USD': {'code': 'USD',\n",
       "   'symbol': '&#36;',\n",
       "   'rate': '17,656.1733',\n",
       "   'description': 'United States Dollar',\n",
       "   'rate_float': 17656.1733},\n",
       "  'GBP': {'code': 'GBP',\n",
       "   'symbol': '&pound;',\n",
       "   'rate': '14,753.3572',\n",
       "   'description': 'British Pound Sterling',\n",
       "   'rate_float': 14753.3572},\n",
       "  'EUR': {'code': 'EUR',\n",
       "   'symbol': '&euro;',\n",
       "   'rate': '17,199.6906',\n",
       "   'description': 'Euro',\n",
       "   'rate_float': 17199.6906}}}"
      ]
     },
     "execution_count": 4,
     "metadata": {},
     "output_type": "execute_result"
    }
   ],
   "source": [
    "url = \"https://api.coindesk.com/v1/bpi/currentprice.json\"\n",
    "page = requests.get(url)\n",
    "data = page.json()\n",
    "data"
   ]
  },
  {
   "cell_type": "code",
   "execution_count": 3,
   "id": "5a03cd80",
   "metadata": {},
   "outputs": [],
   "source": [
    "def fetch_bitcoin():\n",
    "    print(\"Getting Bitcoin Price\")\n",
    "    result=data['bpi']['USD']\n",
    "    print(result)"
   ]
  },
  {
   "cell_type": "code",
   "execution_count": 4,
   "id": "b86f89aa",
   "metadata": {},
   "outputs": [],
   "source": [
    "def job():\n",
    "    print(\"Reading time\")"
   ]
  },
  {
   "cell_type": "code",
   "execution_count": 5,
   "id": "505c6a5d",
   "metadata": {},
   "outputs": [],
   "source": [
    "def coding():\n",
    "    print(\"Coding time\")"
   ]
  },
  {
   "cell_type": "code",
   "execution_count": 6,
   "id": "a41d520e",
   "metadata": {},
   "outputs": [],
   "source": [
    "def playing():\n",
    "    print(\"Playing time\")"
   ]
  },
  {
   "cell_type": "code",
   "execution_count": 7,
   "id": "12e4f80a",
   "metadata": {},
   "outputs": [
    {
     "data": {
      "text/plain": [
       "Every 5 seconds do job() (last run: [never], next run: 2022-11-08 21:36:52)"
      ]
     },
     "execution_count": 7,
     "metadata": {},
     "output_type": "execute_result"
    }
   ],
   "source": [
    "schedule.every(5).seconds.do(job)"
   ]
  },
  {
   "cell_type": "code",
   "execution_count": 8,
   "id": "10ba7b5a",
   "metadata": {},
   "outputs": [
    {
     "data": {
      "text/plain": [
       "Every 19 seconds do coding() (last run: [never], next run: 2022-11-08 21:37:06)"
      ]
     },
     "execution_count": 8,
     "metadata": {},
     "output_type": "execute_result"
    }
   ],
   "source": [
    "schedule.every(19).seconds.do(coding)"
   ]
  },
  {
   "cell_type": "code",
   "execution_count": 1,
   "id": "bb8ea624",
   "metadata": {},
   "outputs": [
    {
     "ename": "NameError",
     "evalue": "name 'schedule' is not defined",
     "output_type": "error",
     "traceback": [
      "\u001b[1;31m---------------------------------------------------------------------------\u001b[0m",
      "\u001b[1;31mNameError\u001b[0m                                 Traceback (most recent call last)",
      "\u001b[1;32m~\\AppData\\Local\\Temp\\ipykernel_23852\\1048684185.py\u001b[0m in \u001b[0;36m<module>\u001b[1;34m\u001b[0m\n\u001b[1;32m----> 1\u001b[1;33m \u001b[0mschedule\u001b[0m\u001b[1;33m.\u001b[0m\u001b[0mevery\u001b[0m\u001b[1;33m(\u001b[0m\u001b[1;36m10\u001b[0m\u001b[1;33m)\u001b[0m\u001b[1;33m.\u001b[0m\u001b[0mminutes\u001b[0m\u001b[1;33m.\u001b[0m\u001b[0mdo\u001b[0m\u001b[1;33m(\u001b[0m\u001b[0mfetch_bitcoin\u001b[0m\u001b[1;33m)\u001b[0m\u001b[1;33m\u001b[0m\u001b[1;33m\u001b[0m\u001b[0m\n\u001b[0m",
      "\u001b[1;31mNameError\u001b[0m: name 'schedule' is not defined"
     ]
    }
   ],
   "source": [
    "schedule.every(10).minutes.do(fetch_bitcoin)"
   ]
  },
  {
   "cell_type": "code",
   "execution_count": null,
   "id": "1bf46b22",
   "metadata": {},
   "outputs": [
    {
     "name": "stdout",
     "output_type": "stream",
     "text": [
      "Reading time\n",
      "Getting Bitcoin Price\n",
      "{'code': 'USD', 'symbol': '&#36;', 'rate': '18,220.5882', 'description': 'United States Dollar', 'rate_float': 18220.5882}\n",
      "Reading time\n",
      "Reading time\n",
      "Coding time\n",
      "Getting Bitcoin Price\n",
      "{'code': 'USD', 'symbol': '&#36;', 'rate': '18,220.5882', 'description': 'United States Dollar', 'rate_float': 18220.5882}\n",
      "Reading time\n",
      "Reading time\n",
      "Getting Bitcoin Price\n",
      "{'code': 'USD', 'symbol': '&#36;', 'rate': '18,220.5882', 'description': 'United States Dollar', 'rate_float': 18220.5882}\n",
      "Reading time\n",
      "Reading time\n",
      "Coding time\n",
      "Getting Bitcoin Price\n",
      "{'code': 'USD', 'symbol': '&#36;', 'rate': '18,220.5882', 'description': 'United States Dollar', 'rate_float': 18220.5882}\n",
      "Reading time\n",
      "Reading time\n",
      "Getting Bitcoin Price\n",
      "{'code': 'USD', 'symbol': '&#36;', 'rate': '18,220.5882', 'description': 'United States Dollar', 'rate_float': 18220.5882}\n",
      "Reading time\n",
      "Reading time\n",
      "Coding time\n",
      "Getting Bitcoin Price\n",
      "{'code': 'USD', 'symbol': '&#36;', 'rate': '18,220.5882', 'description': 'United States Dollar', 'rate_float': 18220.5882}\n",
      "Reading time\n",
      "Reading time\n",
      "Getting Bitcoin Price\n",
      "{'code': 'USD', 'symbol': '&#36;', 'rate': '18,220.5882', 'description': 'United States Dollar', 'rate_float': 18220.5882}\n",
      "Reading time\n",
      "Reading time\n",
      "Coding time\n",
      "Getting Bitcoin Price\n",
      "{'code': 'USD', 'symbol': '&#36;', 'rate': '18,220.5882', 'description': 'United States Dollar', 'rate_float': 18220.5882}\n",
      "Reading time\n",
      "Reading time\n",
      "Getting Bitcoin Price\n",
      "{'code': 'USD', 'symbol': '&#36;', 'rate': '18,220.5882', 'description': 'United States Dollar', 'rate_float': 18220.5882}\n",
      "Reading time\n",
      "Coding time\n",
      "Reading time\n",
      "Getting Bitcoin Price\n",
      "{'code': 'USD', 'symbol': '&#36;', 'rate': '18,220.5882', 'description': 'United States Dollar', 'rate_float': 18220.5882}\n",
      "Reading time\n",
      "Reading time\n",
      "Getting Bitcoin Price\n",
      "{'code': 'USD', 'symbol': '&#36;', 'rate': '18,220.5882', 'description': 'United States Dollar', 'rate_float': 18220.5882}\n",
      "Reading time\n",
      "Coding time\n",
      "Reading time\n",
      "Getting Bitcoin Price\n",
      "{'code': 'USD', 'symbol': '&#36;', 'rate': '18,220.5882', 'description': 'United States Dollar', 'rate_float': 18220.5882}\n",
      "Reading time\n",
      "Reading time\n",
      "Getting Bitcoin Price\n",
      "{'code': 'USD', 'symbol': '&#36;', 'rate': '18,220.5882', 'description': 'United States Dollar', 'rate_float': 18220.5882}\n",
      "Reading time\n",
      "Coding time\n",
      "Reading time\n",
      "Getting Bitcoin Price\n",
      "{'code': 'USD', 'symbol': '&#36;', 'rate': '18,220.5882', 'description': 'United States Dollar', 'rate_float': 18220.5882}\n",
      "Reading time\n",
      "Reading time\n",
      "Getting Bitcoin Price\n",
      "{'code': 'USD', 'symbol': '&#36;', 'rate': '18,220.5882', 'description': 'United States Dollar', 'rate_float': 18220.5882}\n",
      "Reading time\n",
      "Coding time\n",
      "Reading time\n",
      "Getting Bitcoin Price\n",
      "{'code': 'USD', 'symbol': '&#36;', 'rate': '18,220.5882', 'description': 'United States Dollar', 'rate_float': 18220.5882}\n",
      "Reading time\n",
      "Reading time\n",
      "Getting Bitcoin Price\n",
      "{'code': 'USD', 'symbol': '&#36;', 'rate': '18,220.5882', 'description': 'United States Dollar', 'rate_float': 18220.5882}\n",
      "Reading time\n",
      "Coding time\n",
      "Reading time\n",
      "Getting Bitcoin Price\n",
      "{'code': 'USD', 'symbol': '&#36;', 'rate': '18,220.5882', 'description': 'United States Dollar', 'rate_float': 18220.5882}\n",
      "Reading time\n",
      "Reading time\n",
      "Coding time\n",
      "Getting Bitcoin Price\n",
      "{'code': 'USD', 'symbol': '&#36;', 'rate': '18,220.5882', 'description': 'United States Dollar', 'rate_float': 18220.5882}\n",
      "Reading time\n",
      "Reading time\n",
      "Getting Bitcoin Price\n",
      "{'code': 'USD', 'symbol': '&#36;', 'rate': '18,220.5882', 'description': 'United States Dollar', 'rate_float': 18220.5882}\n",
      "Reading time\n",
      "Reading time\n",
      "Coding time\n",
      "Getting Bitcoin Price\n",
      "{'code': 'USD', 'symbol': '&#36;', 'rate': '18,220.5882', 'description': 'United States Dollar', 'rate_float': 18220.5882}\n",
      "Reading time\n",
      "Reading time\n",
      "Getting Bitcoin Price\n",
      "{'code': 'USD', 'symbol': '&#36;', 'rate': '18,220.5882', 'description': 'United States Dollar', 'rate_float': 18220.5882}\n",
      "Reading time\n",
      "Reading time\n",
      "Coding time\n",
      "Getting Bitcoin Price\n",
      "{'code': 'USD', 'symbol': '&#36;', 'rate': '18,220.5882', 'description': 'United States Dollar', 'rate_float': 18220.5882}\n",
      "Reading time\n",
      "Reading time\n",
      "Getting Bitcoin Price\n",
      "{'code': 'USD', 'symbol': '&#36;', 'rate': '18,220.5882', 'description': 'United States Dollar', 'rate_float': 18220.5882}\n",
      "Reading time\n",
      "Reading time\n",
      "Coding time\n",
      "Getting Bitcoin Price\n",
      "{'code': 'USD', 'symbol': '&#36;', 'rate': '18,220.5882', 'description': 'United States Dollar', 'rate_float': 18220.5882}\n",
      "Reading time\n",
      "Reading time\n",
      "Getting Bitcoin Price\n",
      "{'code': 'USD', 'symbol': '&#36;', 'rate': '18,220.5882', 'description': 'United States Dollar', 'rate_float': 18220.5882}\n",
      "Reading time\n",
      "Reading time\n",
      "Coding time\n",
      "Getting Bitcoin Price\n",
      "{'code': 'USD', 'symbol': '&#36;', 'rate': '18,220.5882', 'description': 'United States Dollar', 'rate_float': 18220.5882}\n",
      "Reading time\n",
      "Reading time\n",
      "Getting Bitcoin Price\n",
      "{'code': 'USD', 'symbol': '&#36;', 'rate': '18,220.5882', 'description': 'United States Dollar', 'rate_float': 18220.5882}\n",
      "Reading time\n"
     ]
    }
   ],
   "source": [
    "while True:\n",
    "    schedule.run_pending()\n",
    "    time.sleep(1)"
   ]
  },
  {
   "cell_type": "code",
   "execution_count": null,
   "id": "bd0832e9",
   "metadata": {},
   "outputs": [],
   "source": []
  },
  {
   "cell_type": "code",
   "execution_count": null,
   "id": "8dc60b06",
   "metadata": {},
   "outputs": [],
   "source": []
  },
  {
   "cell_type": "code",
   "execution_count": null,
   "id": "02e9716e",
   "metadata": {},
   "outputs": [],
   "source": []
  }
 ],
 "metadata": {
  "kernelspec": {
   "display_name": "Python 3 (ipykernel)",
   "language": "python",
   "name": "python3"
  },
  "language_info": {
   "codemirror_mode": {
    "name": "ipython",
    "version": 3
   },
   "file_extension": ".py",
   "mimetype": "text/x-python",
   "name": "python",
   "nbconvert_exporter": "python",
   "pygments_lexer": "ipython3",
   "version": "3.9.13"
  }
 },
 "nbformat": 4,
 "nbformat_minor": 5
}
